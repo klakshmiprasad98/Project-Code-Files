{
 "cells": [
  {
   "cell_type": "markdown",
   "metadata": {
    "id": "FDZ1b33S8mfo"
   },
   "source": [
    "## Good Reads - Data Preprocessing and Exploratory Analysis\n",
    "\n",
    "\n",
    "\n",
    "\n"
   ]
  },
  {
   "cell_type": "markdown",
   "metadata": {
    "id": "ielup4wo9AzU"
   },
   "source": [
    "### Importing all the required libraries\n",
    "\n"
   ]
  },
  {
   "cell_type": "code",
   "execution_count": null,
   "metadata": {
    "id": "x64o67dD9GNi"
   },
   "outputs": [],
   "source": [
    "import pandas as pd\n",
    "import numpy as np\n",
    "import os, glob\n",
    "import matplotlib.pyplot as plt\n",
    "import seaborn as sns\n",
    "import warnings\n",
    "warnings.filterwarnings('ignore')"
   ]
  },
  {
   "cell_type": "markdown",
   "metadata": {
    "id": "HHZAM_9u-Z6B"
   },
   "source": [
    "### Connecting Google drive"
   ]
  },
  {
   "cell_type": "code",
   "execution_count": null,
   "metadata": {
    "colab": {
     "base_uri": "https://localhost:8080/"
    },
    "id": "YGQ0CN51-cn_",
    "outputId": "3465a055-74f3-419f-c583-0eabc07e582c"
   },
   "outputs": [
    {
     "name": "stdout",
     "output_type": "stream",
     "text": [
      "Mounted at /content/drive\n"
     ]
    }
   ],
   "source": [
    "from google.colab import drive\n",
    "drive.mount('/content/drive')"
   ]
  },
  {
   "cell_type": "markdown",
   "metadata": {
    "id": "0lXTbH1C9kXO"
   },
   "source": [
    "### Converting Dataset into a dataframe"
   ]
  },
  {
   "cell_type": "code",
   "execution_count": null,
   "metadata": {
    "id": "6SQBbTZ8-jco"
   },
   "outputs": [],
   "source": [
    "df=pd.read_csv('/content/drive/My Drive/BI and Data Mining/Final Project/books_updated.csv')"
   ]
  },
  {
   "cell_type": "markdown",
   "metadata": {
    "id": "HPuhmdSg-u9o"
   },
   "source": [
    "#### Preview of the dataset"
   ]
  },
  {
   "cell_type": "code",
   "execution_count": null,
   "metadata": {
    "colab": {
     "base_uri": "https://localhost:8080/",
     "height": 513
    },
    "id": "8Fuo63Kn-x4h",
    "outputId": "7af1956a-796b-4f75-ae86-028cbf1f25db"
   },
   "outputs": [
    {
     "data": {
      "text/html": [
       "<div>\n",
       "<style scoped>\n",
       "    .dataframe tbody tr th:only-of-type {\n",
       "        vertical-align: middle;\n",
       "    }\n",
       "\n",
       "    .dataframe tbody tr th {\n",
       "        vertical-align: top;\n",
       "    }\n",
       "\n",
       "    .dataframe thead th {\n",
       "        text-align: right;\n",
       "    }\n",
       "</style>\n",
       "<table border=\"1\" class=\"dataframe\">\n",
       "  <thead>\n",
       "    <tr style=\"text-align: right;\">\n",
       "      <th></th>\n",
       "      <th>id</th>\n",
       "      <th>book_id</th>\n",
       "      <th>best_book_id</th>\n",
       "      <th>work_id</th>\n",
       "      <th>books_count</th>\n",
       "      <th>isbn</th>\n",
       "      <th>isbn13</th>\n",
       "      <th>authors</th>\n",
       "      <th>original_publication_year</th>\n",
       "      <th>original_title</th>\n",
       "      <th>title</th>\n",
       "      <th>language_code</th>\n",
       "      <th>average_rating</th>\n",
       "      <th>ratings_count</th>\n",
       "      <th>work_ratings_count</th>\n",
       "      <th>work_text_reviews_count</th>\n",
       "      <th>ratings_1</th>\n",
       "      <th>ratings_2</th>\n",
       "      <th>ratings_3</th>\n",
       "      <th>ratings_4</th>\n",
       "      <th>ratings_5</th>\n",
       "      <th>image_url</th>\n",
       "      <th>small_image_url</th>\n",
       "      <th>tag_name</th>\n",
       "      <th>toread_count</th>\n",
       "      <th>currently_reading</th>\n",
       "    </tr>\n",
       "  </thead>\n",
       "  <tbody>\n",
       "    <tr>\n",
       "      <th>0</th>\n",
       "      <td>1</td>\n",
       "      <td>2767052</td>\n",
       "      <td>2767052</td>\n",
       "      <td>2792775</td>\n",
       "      <td>272</td>\n",
       "      <td>439023483</td>\n",
       "      <td>9.780439e+12</td>\n",
       "      <td>Suzanne Collins</td>\n",
       "      <td>2008.0</td>\n",
       "      <td>The Hunger Games</td>\n",
       "      <td>The Hunger Games (The Hunger Games, #1)</td>\n",
       "      <td>eng</td>\n",
       "      <td>4.34</td>\n",
       "      <td>4780653</td>\n",
       "      <td>4942365</td>\n",
       "      <td>155254</td>\n",
       "      <td>66715</td>\n",
       "      <td>127936</td>\n",
       "      <td>560092</td>\n",
       "      <td>1481305</td>\n",
       "      <td>2706317</td>\n",
       "      <td>https://images.gr-assets.com/books/1447303603m...</td>\n",
       "      <td>https://images.gr-assets.com/books/1447303603s...</td>\n",
       "      <td>favorites, currentlyreading, youngadult, ficti...</td>\n",
       "      <td>0.0</td>\n",
       "      <td>35418.0</td>\n",
       "    </tr>\n",
       "    <tr>\n",
       "      <th>1</th>\n",
       "      <td>2</td>\n",
       "      <td>3</td>\n",
       "      <td>3</td>\n",
       "      <td>4640799</td>\n",
       "      <td>491</td>\n",
       "      <td>439554934</td>\n",
       "      <td>9.780440e+12</td>\n",
       "      <td>J.K. Rowling, Mary GrandPré</td>\n",
       "      <td>1997.0</td>\n",
       "      <td>Harry Potter and the Philosopher's Stone</td>\n",
       "      <td>Harry Potter and the Sorcerer's Stone (Harry P...</td>\n",
       "      <td>eng</td>\n",
       "      <td>4.44</td>\n",
       "      <td>4602479</td>\n",
       "      <td>4800065</td>\n",
       "      <td>75867</td>\n",
       "      <td>75504</td>\n",
       "      <td>101676</td>\n",
       "      <td>455024</td>\n",
       "      <td>1156318</td>\n",
       "      <td>3011543</td>\n",
       "      <td>https://images.gr-assets.com/books/1474154022m...</td>\n",
       "      <td>https://images.gr-assets.com/books/1474154022s...</td>\n",
       "      <td>toread, favorites, fantasy, currentlyreading, ...</td>\n",
       "      <td>287.0</td>\n",
       "      <td>44640.0</td>\n",
       "    </tr>\n",
       "    <tr>\n",
       "      <th>2</th>\n",
       "      <td>3</td>\n",
       "      <td>41865</td>\n",
       "      <td>41865</td>\n",
       "      <td>3212258</td>\n",
       "      <td>226</td>\n",
       "      <td>316015849</td>\n",
       "      <td>9.780316e+12</td>\n",
       "      <td>Stephenie Meyer</td>\n",
       "      <td>2005.0</td>\n",
       "      <td>Twilight</td>\n",
       "      <td>Twilight (Twilight, #1)</td>\n",
       "      <td>en-US</td>\n",
       "      <td>3.57</td>\n",
       "      <td>3866839</td>\n",
       "      <td>3916824</td>\n",
       "      <td>95009</td>\n",
       "      <td>456191</td>\n",
       "      <td>436802</td>\n",
       "      <td>793319</td>\n",
       "      <td>875073</td>\n",
       "      <td>1355439</td>\n",
       "      <td>https://images.gr-assets.com/books/1361039443m...</td>\n",
       "      <td>https://images.gr-assets.com/books/1361039443s...</td>\n",
       "      <td>youngadult, fantasy, favorites, vampires, ya, ...</td>\n",
       "      <td>0.0</td>\n",
       "      <td>240.0</td>\n",
       "    </tr>\n",
       "    <tr>\n",
       "      <th>3</th>\n",
       "      <td>4</td>\n",
       "      <td>2657</td>\n",
       "      <td>2657</td>\n",
       "      <td>3275794</td>\n",
       "      <td>487</td>\n",
       "      <td>61120081</td>\n",
       "      <td>9.780061e+12</td>\n",
       "      <td>Harper Lee</td>\n",
       "      <td>1960.0</td>\n",
       "      <td>To Kill a Mockingbird</td>\n",
       "      <td>To Kill a Mockingbird</td>\n",
       "      <td>eng</td>\n",
       "      <td>4.25</td>\n",
       "      <td>3198671</td>\n",
       "      <td>3340896</td>\n",
       "      <td>72586</td>\n",
       "      <td>60427</td>\n",
       "      <td>117415</td>\n",
       "      <td>446835</td>\n",
       "      <td>1001952</td>\n",
       "      <td>1714267</td>\n",
       "      <td>https://images.gr-assets.com/books/1361975680m...</td>\n",
       "      <td>https://images.gr-assets.com/books/1361975680s...</td>\n",
       "      <td>classics, favorites, toread, classic, historic...</td>\n",
       "      <td>50.0</td>\n",
       "      <td>1997.0</td>\n",
       "    </tr>\n",
       "    <tr>\n",
       "      <th>4</th>\n",
       "      <td>5</td>\n",
       "      <td>4671</td>\n",
       "      <td>4671</td>\n",
       "      <td>245494</td>\n",
       "      <td>1356</td>\n",
       "      <td>743273567</td>\n",
       "      <td>9.780743e+12</td>\n",
       "      <td>F. Scott Fitzgerald</td>\n",
       "      <td>1925.0</td>\n",
       "      <td>The Great Gatsby</td>\n",
       "      <td>The Great Gatsby</td>\n",
       "      <td>eng</td>\n",
       "      <td>3.89</td>\n",
       "      <td>2683664</td>\n",
       "      <td>2773745</td>\n",
       "      <td>51992</td>\n",
       "      <td>86236</td>\n",
       "      <td>197621</td>\n",
       "      <td>606158</td>\n",
       "      <td>936012</td>\n",
       "      <td>947718</td>\n",
       "      <td>https://images.gr-assets.com/books/1490528560m...</td>\n",
       "      <td>https://images.gr-assets.com/books/1490528560s...</td>\n",
       "      <td>classics, favorites, fiction, classic, booksio...</td>\n",
       "      <td>48.0</td>\n",
       "      <td>313.0</td>\n",
       "    </tr>\n",
       "  </tbody>\n",
       "</table>\n",
       "</div>"
      ],
      "text/plain": [
       "   id  book_id  ...  toread_count  currently_reading\n",
       "0   1  2767052  ...           0.0            35418.0\n",
       "1   2        3  ...         287.0            44640.0\n",
       "2   3    41865  ...           0.0              240.0\n",
       "3   4     2657  ...          50.0             1997.0\n",
       "4   5     4671  ...          48.0              313.0\n",
       "\n",
       "[5 rows x 26 columns]"
      ]
     },
     "execution_count": 4,
     "metadata": {
      "tags": []
     },
     "output_type": "execute_result"
    }
   ],
   "source": [
    "df.head()"
   ]
  },
  {
   "cell_type": "markdown",
   "metadata": {
    "id": "KX89cUB6_Bbd"
   },
   "source": [
    "#### Setting id column as index"
   ]
  },
  {
   "cell_type": "code",
   "execution_count": null,
   "metadata": {
    "colab": {
     "base_uri": "https://localhost:8080/",
     "height": 544
    },
    "id": "AhA_Q-hY_DnI",
    "outputId": "faf8f3c1-4677-4666-db70-a19184ce30d3"
   },
   "outputs": [
    {
     "data": {
      "text/html": [
       "<div>\n",
       "<style scoped>\n",
       "    .dataframe tbody tr th:only-of-type {\n",
       "        vertical-align: middle;\n",
       "    }\n",
       "\n",
       "    .dataframe tbody tr th {\n",
       "        vertical-align: top;\n",
       "    }\n",
       "\n",
       "    .dataframe thead th {\n",
       "        text-align: right;\n",
       "    }\n",
       "</style>\n",
       "<table border=\"1\" class=\"dataframe\">\n",
       "  <thead>\n",
       "    <tr style=\"text-align: right;\">\n",
       "      <th></th>\n",
       "      <th>id</th>\n",
       "      <th>book_id</th>\n",
       "      <th>best_book_id</th>\n",
       "      <th>work_id</th>\n",
       "      <th>books_count</th>\n",
       "      <th>isbn</th>\n",
       "      <th>isbn13</th>\n",
       "      <th>authors</th>\n",
       "      <th>original_publication_year</th>\n",
       "      <th>original_title</th>\n",
       "      <th>title</th>\n",
       "      <th>language_code</th>\n",
       "      <th>average_rating</th>\n",
       "      <th>ratings_count</th>\n",
       "      <th>work_ratings_count</th>\n",
       "      <th>work_text_reviews_count</th>\n",
       "      <th>ratings_1</th>\n",
       "      <th>ratings_2</th>\n",
       "      <th>ratings_3</th>\n",
       "      <th>ratings_4</th>\n",
       "      <th>ratings_5</th>\n",
       "      <th>image_url</th>\n",
       "      <th>small_image_url</th>\n",
       "      <th>tag_name</th>\n",
       "      <th>toread_count</th>\n",
       "      <th>currently_reading</th>\n",
       "    </tr>\n",
       "    <tr>\n",
       "      <th>id</th>\n",
       "      <th></th>\n",
       "      <th></th>\n",
       "      <th></th>\n",
       "      <th></th>\n",
       "      <th></th>\n",
       "      <th></th>\n",
       "      <th></th>\n",
       "      <th></th>\n",
       "      <th></th>\n",
       "      <th></th>\n",
       "      <th></th>\n",
       "      <th></th>\n",
       "      <th></th>\n",
       "      <th></th>\n",
       "      <th></th>\n",
       "      <th></th>\n",
       "      <th></th>\n",
       "      <th></th>\n",
       "      <th></th>\n",
       "      <th></th>\n",
       "      <th></th>\n",
       "      <th></th>\n",
       "      <th></th>\n",
       "      <th></th>\n",
       "      <th></th>\n",
       "      <th></th>\n",
       "    </tr>\n",
       "  </thead>\n",
       "  <tbody>\n",
       "    <tr>\n",
       "      <th>1</th>\n",
       "      <td>1</td>\n",
       "      <td>2767052</td>\n",
       "      <td>2767052</td>\n",
       "      <td>2792775</td>\n",
       "      <td>272</td>\n",
       "      <td>439023483</td>\n",
       "      <td>9.780439e+12</td>\n",
       "      <td>Suzanne Collins</td>\n",
       "      <td>2008.0</td>\n",
       "      <td>The Hunger Games</td>\n",
       "      <td>The Hunger Games (The Hunger Games, #1)</td>\n",
       "      <td>eng</td>\n",
       "      <td>4.34</td>\n",
       "      <td>4780653</td>\n",
       "      <td>4942365</td>\n",
       "      <td>155254</td>\n",
       "      <td>66715</td>\n",
       "      <td>127936</td>\n",
       "      <td>560092</td>\n",
       "      <td>1481305</td>\n",
       "      <td>2706317</td>\n",
       "      <td>https://images.gr-assets.com/books/1447303603m...</td>\n",
       "      <td>https://images.gr-assets.com/books/1447303603s...</td>\n",
       "      <td>favorites, currentlyreading, youngadult, ficti...</td>\n",
       "      <td>0.0</td>\n",
       "      <td>35418.0</td>\n",
       "    </tr>\n",
       "    <tr>\n",
       "      <th>2</th>\n",
       "      <td>2</td>\n",
       "      <td>3</td>\n",
       "      <td>3</td>\n",
       "      <td>4640799</td>\n",
       "      <td>491</td>\n",
       "      <td>439554934</td>\n",
       "      <td>9.780440e+12</td>\n",
       "      <td>J.K. Rowling, Mary GrandPré</td>\n",
       "      <td>1997.0</td>\n",
       "      <td>Harry Potter and the Philosopher's Stone</td>\n",
       "      <td>Harry Potter and the Sorcerer's Stone (Harry P...</td>\n",
       "      <td>eng</td>\n",
       "      <td>4.44</td>\n",
       "      <td>4602479</td>\n",
       "      <td>4800065</td>\n",
       "      <td>75867</td>\n",
       "      <td>75504</td>\n",
       "      <td>101676</td>\n",
       "      <td>455024</td>\n",
       "      <td>1156318</td>\n",
       "      <td>3011543</td>\n",
       "      <td>https://images.gr-assets.com/books/1474154022m...</td>\n",
       "      <td>https://images.gr-assets.com/books/1474154022s...</td>\n",
       "      <td>toread, favorites, fantasy, currentlyreading, ...</td>\n",
       "      <td>287.0</td>\n",
       "      <td>44640.0</td>\n",
       "    </tr>\n",
       "    <tr>\n",
       "      <th>3</th>\n",
       "      <td>3</td>\n",
       "      <td>41865</td>\n",
       "      <td>41865</td>\n",
       "      <td>3212258</td>\n",
       "      <td>226</td>\n",
       "      <td>316015849</td>\n",
       "      <td>9.780316e+12</td>\n",
       "      <td>Stephenie Meyer</td>\n",
       "      <td>2005.0</td>\n",
       "      <td>Twilight</td>\n",
       "      <td>Twilight (Twilight, #1)</td>\n",
       "      <td>en-US</td>\n",
       "      <td>3.57</td>\n",
       "      <td>3866839</td>\n",
       "      <td>3916824</td>\n",
       "      <td>95009</td>\n",
       "      <td>456191</td>\n",
       "      <td>436802</td>\n",
       "      <td>793319</td>\n",
       "      <td>875073</td>\n",
       "      <td>1355439</td>\n",
       "      <td>https://images.gr-assets.com/books/1361039443m...</td>\n",
       "      <td>https://images.gr-assets.com/books/1361039443s...</td>\n",
       "      <td>youngadult, fantasy, favorites, vampires, ya, ...</td>\n",
       "      <td>0.0</td>\n",
       "      <td>240.0</td>\n",
       "    </tr>\n",
       "    <tr>\n",
       "      <th>4</th>\n",
       "      <td>4</td>\n",
       "      <td>2657</td>\n",
       "      <td>2657</td>\n",
       "      <td>3275794</td>\n",
       "      <td>487</td>\n",
       "      <td>61120081</td>\n",
       "      <td>9.780061e+12</td>\n",
       "      <td>Harper Lee</td>\n",
       "      <td>1960.0</td>\n",
       "      <td>To Kill a Mockingbird</td>\n",
       "      <td>To Kill a Mockingbird</td>\n",
       "      <td>eng</td>\n",
       "      <td>4.25</td>\n",
       "      <td>3198671</td>\n",
       "      <td>3340896</td>\n",
       "      <td>72586</td>\n",
       "      <td>60427</td>\n",
       "      <td>117415</td>\n",
       "      <td>446835</td>\n",
       "      <td>1001952</td>\n",
       "      <td>1714267</td>\n",
       "      <td>https://images.gr-assets.com/books/1361975680m...</td>\n",
       "      <td>https://images.gr-assets.com/books/1361975680s...</td>\n",
       "      <td>classics, favorites, toread, classic, historic...</td>\n",
       "      <td>50.0</td>\n",
       "      <td>1997.0</td>\n",
       "    </tr>\n",
       "    <tr>\n",
       "      <th>5</th>\n",
       "      <td>5</td>\n",
       "      <td>4671</td>\n",
       "      <td>4671</td>\n",
       "      <td>245494</td>\n",
       "      <td>1356</td>\n",
       "      <td>743273567</td>\n",
       "      <td>9.780743e+12</td>\n",
       "      <td>F. Scott Fitzgerald</td>\n",
       "      <td>1925.0</td>\n",
       "      <td>The Great Gatsby</td>\n",
       "      <td>The Great Gatsby</td>\n",
       "      <td>eng</td>\n",
       "      <td>3.89</td>\n",
       "      <td>2683664</td>\n",
       "      <td>2773745</td>\n",
       "      <td>51992</td>\n",
       "      <td>86236</td>\n",
       "      <td>197621</td>\n",
       "      <td>606158</td>\n",
       "      <td>936012</td>\n",
       "      <td>947718</td>\n",
       "      <td>https://images.gr-assets.com/books/1490528560m...</td>\n",
       "      <td>https://images.gr-assets.com/books/1490528560s...</td>\n",
       "      <td>classics, favorites, fiction, classic, booksio...</td>\n",
       "      <td>48.0</td>\n",
       "      <td>313.0</td>\n",
       "    </tr>\n",
       "  </tbody>\n",
       "</table>\n",
       "</div>"
      ],
      "text/plain": [
       "    id  book_id  ...  toread_count  currently_reading\n",
       "id               ...                                 \n",
       "1    1  2767052  ...           0.0            35418.0\n",
       "2    2        3  ...         287.0            44640.0\n",
       "3    3    41865  ...           0.0              240.0\n",
       "4    4     2657  ...          50.0             1997.0\n",
       "5    5     4671  ...          48.0              313.0\n",
       "\n",
       "[5 rows x 26 columns]"
      ]
     },
     "execution_count": 5,
     "metadata": {
      "tags": []
     },
     "output_type": "execute_result"
    }
   ],
   "source": [
    "df.index=df['id']\n",
    "df.head()"
   ]
  },
  {
   "cell_type": "markdown",
   "metadata": {
    "id": "TSv9A05zCW2d"
   },
   "source": [
    "#### Stats about the dataframe"
   ]
  },
  {
   "cell_type": "code",
   "execution_count": null,
   "metadata": {
    "colab": {
     "base_uri": "https://localhost:8080/",
     "height": 317
    },
    "id": "VJF3sgVmGnhH",
    "outputId": "5b312d3a-a87f-4d80-dbb4-7dae34adc3ca"
   },
   "outputs": [
    {
     "data": {
      "text/html": [
       "<div>\n",
       "<style scoped>\n",
       "    .dataframe tbody tr th:only-of-type {\n",
       "        vertical-align: middle;\n",
       "    }\n",
       "\n",
       "    .dataframe tbody tr th {\n",
       "        vertical-align: top;\n",
       "    }\n",
       "\n",
       "    .dataframe thead th {\n",
       "        text-align: right;\n",
       "    }\n",
       "</style>\n",
       "<table border=\"1\" class=\"dataframe\">\n",
       "  <thead>\n",
       "    <tr style=\"text-align: right;\">\n",
       "      <th></th>\n",
       "      <th>id</th>\n",
       "      <th>book_id</th>\n",
       "      <th>best_book_id</th>\n",
       "      <th>work_id</th>\n",
       "      <th>books_count</th>\n",
       "      <th>isbn13</th>\n",
       "      <th>original_publication_year</th>\n",
       "      <th>average_rating</th>\n",
       "      <th>ratings_count</th>\n",
       "      <th>work_ratings_count</th>\n",
       "      <th>work_text_reviews_count</th>\n",
       "      <th>ratings_1</th>\n",
       "      <th>ratings_2</th>\n",
       "      <th>ratings_3</th>\n",
       "      <th>ratings_4</th>\n",
       "      <th>ratings_5</th>\n",
       "      <th>toread_count</th>\n",
       "      <th>currently_reading</th>\n",
       "    </tr>\n",
       "  </thead>\n",
       "  <tbody>\n",
       "    <tr>\n",
       "      <th>count</th>\n",
       "      <td>10000.00000</td>\n",
       "      <td>1.000000e+04</td>\n",
       "      <td>1.000000e+04</td>\n",
       "      <td>1.000000e+04</td>\n",
       "      <td>10000.000000</td>\n",
       "      <td>9.415000e+03</td>\n",
       "      <td>9979.000000</td>\n",
       "      <td>10000.000000</td>\n",
       "      <td>1.000000e+04</td>\n",
       "      <td>1.000000e+04</td>\n",
       "      <td>10000.000000</td>\n",
       "      <td>10000.000000</td>\n",
       "      <td>10000.000000</td>\n",
       "      <td>10000.000000</td>\n",
       "      <td>1.000000e+04</td>\n",
       "      <td>1.000000e+04</td>\n",
       "      <td>10000.000000</td>\n",
       "      <td>9776.000000</td>\n",
       "    </tr>\n",
       "    <tr>\n",
       "      <th>mean</th>\n",
       "      <td>5000.50000</td>\n",
       "      <td>5.264697e+06</td>\n",
       "      <td>5.471214e+06</td>\n",
       "      <td>8.646183e+06</td>\n",
       "      <td>75.712700</td>\n",
       "      <td>9.755044e+12</td>\n",
       "      <td>1981.987674</td>\n",
       "      <td>4.002191</td>\n",
       "      <td>5.400124e+04</td>\n",
       "      <td>5.968732e+04</td>\n",
       "      <td>2919.955300</td>\n",
       "      <td>1345.040600</td>\n",
       "      <td>3110.885000</td>\n",
       "      <td>11475.893800</td>\n",
       "      <td>1.996570e+04</td>\n",
       "      <td>2.378981e+04</td>\n",
       "      <td>8.749300</td>\n",
       "      <td>767.998977</td>\n",
       "    </tr>\n",
       "    <tr>\n",
       "      <th>std</th>\n",
       "      <td>2886.89568</td>\n",
       "      <td>7.575462e+06</td>\n",
       "      <td>7.827330e+06</td>\n",
       "      <td>1.175106e+07</td>\n",
       "      <td>170.470728</td>\n",
       "      <td>4.428619e+11</td>\n",
       "      <td>152.576665</td>\n",
       "      <td>0.254427</td>\n",
       "      <td>1.573700e+05</td>\n",
       "      <td>1.678038e+05</td>\n",
       "      <td>6124.378132</td>\n",
       "      <td>6635.626263</td>\n",
       "      <td>9717.123578</td>\n",
       "      <td>28546.449183</td>\n",
       "      <td>5.144736e+04</td>\n",
       "      <td>7.976889e+04</td>\n",
       "      <td>66.773326</td>\n",
       "      <td>2299.037217</td>\n",
       "    </tr>\n",
       "    <tr>\n",
       "      <th>min</th>\n",
       "      <td>1.00000</td>\n",
       "      <td>1.000000e+00</td>\n",
       "      <td>1.000000e+00</td>\n",
       "      <td>8.700000e+01</td>\n",
       "      <td>1.000000</td>\n",
       "      <td>1.951703e+08</td>\n",
       "      <td>-1750.000000</td>\n",
       "      <td>2.470000</td>\n",
       "      <td>2.716000e+03</td>\n",
       "      <td>5.510000e+03</td>\n",
       "      <td>3.000000</td>\n",
       "      <td>11.000000</td>\n",
       "      <td>30.000000</td>\n",
       "      <td>323.000000</td>\n",
       "      <td>7.500000e+02</td>\n",
       "      <td>7.540000e+02</td>\n",
       "      <td>0.000000</td>\n",
       "      <td>1.000000</td>\n",
       "    </tr>\n",
       "    <tr>\n",
       "      <th>25%</th>\n",
       "      <td>2500.75000</td>\n",
       "      <td>4.627575e+04</td>\n",
       "      <td>4.791175e+04</td>\n",
       "      <td>1.008841e+06</td>\n",
       "      <td>23.000000</td>\n",
       "      <td>9.780316e+12</td>\n",
       "      <td>1990.000000</td>\n",
       "      <td>3.850000</td>\n",
       "      <td>1.356875e+04</td>\n",
       "      <td>1.543875e+04</td>\n",
       "      <td>694.000000</td>\n",
       "      <td>196.000000</td>\n",
       "      <td>656.000000</td>\n",
       "      <td>3112.000000</td>\n",
       "      <td>5.405750e+03</td>\n",
       "      <td>5.334000e+03</td>\n",
       "      <td>0.000000</td>\n",
       "      <td>119.000000</td>\n",
       "    </tr>\n",
       "    <tr>\n",
       "      <th>50%</th>\n",
       "      <td>5000.50000</td>\n",
       "      <td>3.949655e+05</td>\n",
       "      <td>4.251235e+05</td>\n",
       "      <td>2.719524e+06</td>\n",
       "      <td>40.000000</td>\n",
       "      <td>9.780452e+12</td>\n",
       "      <td>2004.000000</td>\n",
       "      <td>4.020000</td>\n",
       "      <td>2.115550e+04</td>\n",
       "      <td>2.383250e+04</td>\n",
       "      <td>1402.000000</td>\n",
       "      <td>391.000000</td>\n",
       "      <td>1163.000000</td>\n",
       "      <td>4894.000000</td>\n",
       "      <td>8.269500e+03</td>\n",
       "      <td>8.836000e+03</td>\n",
       "      <td>0.000000</td>\n",
       "      <td>271.000000</td>\n",
       "    </tr>\n",
       "    <tr>\n",
       "      <th>75%</th>\n",
       "      <td>7500.25000</td>\n",
       "      <td>9.382225e+06</td>\n",
       "      <td>9.636112e+06</td>\n",
       "      <td>1.451775e+07</td>\n",
       "      <td>67.000000</td>\n",
       "      <td>9.780831e+12</td>\n",
       "      <td>2011.000000</td>\n",
       "      <td>4.180000</td>\n",
       "      <td>4.105350e+04</td>\n",
       "      <td>4.591500e+04</td>\n",
       "      <td>2744.250000</td>\n",
       "      <td>885.000000</td>\n",
       "      <td>2353.250000</td>\n",
       "      <td>9287.000000</td>\n",
       "      <td>1.602350e+04</td>\n",
       "      <td>1.730450e+04</td>\n",
       "      <td>0.000000</td>\n",
       "      <td>622.000000</td>\n",
       "    </tr>\n",
       "    <tr>\n",
       "      <th>max</th>\n",
       "      <td>10000.00000</td>\n",
       "      <td>3.328864e+07</td>\n",
       "      <td>3.553423e+07</td>\n",
       "      <td>5.639960e+07</td>\n",
       "      <td>3455.000000</td>\n",
       "      <td>9.790008e+12</td>\n",
       "      <td>2017.000000</td>\n",
       "      <td>4.820000</td>\n",
       "      <td>4.780653e+06</td>\n",
       "      <td>4.942365e+06</td>\n",
       "      <td>155254.000000</td>\n",
       "      <td>456191.000000</td>\n",
       "      <td>436802.000000</td>\n",
       "      <td>793319.000000</td>\n",
       "      <td>1.481305e+06</td>\n",
       "      <td>3.011543e+06</td>\n",
       "      <td>1812.000000</td>\n",
       "      <td>77785.000000</td>\n",
       "    </tr>\n",
       "  </tbody>\n",
       "</table>\n",
       "</div>"
      ],
      "text/plain": [
       "                id       book_id  ...  toread_count  currently_reading\n",
       "count  10000.00000  1.000000e+04  ...  10000.000000        9776.000000\n",
       "mean    5000.50000  5.264697e+06  ...      8.749300         767.998977\n",
       "std     2886.89568  7.575462e+06  ...     66.773326        2299.037217\n",
       "min        1.00000  1.000000e+00  ...      0.000000           1.000000\n",
       "25%     2500.75000  4.627575e+04  ...      0.000000         119.000000\n",
       "50%     5000.50000  3.949655e+05  ...      0.000000         271.000000\n",
       "75%     7500.25000  9.382225e+06  ...      0.000000         622.000000\n",
       "max    10000.00000  3.328864e+07  ...   1812.000000       77785.000000\n",
       "\n",
       "[8 rows x 18 columns]"
      ]
     },
     "execution_count": 6,
     "metadata": {
      "tags": []
     },
     "output_type": "execute_result"
    }
   ],
   "source": [
    "df.describe()"
   ]
  },
  {
   "cell_type": "markdown",
   "metadata": {
    "id": "jgPOER-NCcZQ"
   },
   "source": [
    "#### Info about the dataframe"
   ]
  },
  {
   "cell_type": "code",
   "execution_count": null,
   "metadata": {
    "colab": {
     "base_uri": "https://localhost:8080/"
    },
    "id": "d3HcBI8jGp2L",
    "outputId": "d74efdd7-f312-48c7-c541-59b2efa34dd8"
   },
   "outputs": [
    {
     "name": "stdout",
     "output_type": "stream",
     "text": [
      "<class 'pandas.core.frame.DataFrame'>\n",
      "Int64Index: 10000 entries, 1 to 10000\n",
      "Data columns (total 26 columns):\n",
      " #   Column                     Non-Null Count  Dtype  \n",
      "---  ------                     --------------  -----  \n",
      " 0   id                         10000 non-null  int64  \n",
      " 1   book_id                    10000 non-null  int64  \n",
      " 2   best_book_id               10000 non-null  int64  \n",
      " 3   work_id                    10000 non-null  int64  \n",
      " 4   books_count                10000 non-null  int64  \n",
      " 5   isbn                       9300 non-null   object \n",
      " 6   isbn13                     9415 non-null   float64\n",
      " 7   authors                    10000 non-null  object \n",
      " 8   original_publication_year  9979 non-null   float64\n",
      " 9   original_title             9415 non-null   object \n",
      " 10  title                      10000 non-null  object \n",
      " 11  language_code              8916 non-null   object \n",
      " 12  average_rating             10000 non-null  float64\n",
      " 13  ratings_count              10000 non-null  int64  \n",
      " 14  work_ratings_count         10000 non-null  int64  \n",
      " 15  work_text_reviews_count    10000 non-null  int64  \n",
      " 16  ratings_1                  10000 non-null  int64  \n",
      " 17  ratings_2                  10000 non-null  int64  \n",
      " 18  ratings_3                  10000 non-null  int64  \n",
      " 19  ratings_4                  10000 non-null  int64  \n",
      " 20  ratings_5                  10000 non-null  int64  \n",
      " 21  image_url                  10000 non-null  object \n",
      " 22  small_image_url            10000 non-null  object \n",
      " 23  tag_name                   10000 non-null  object \n",
      " 24  toread_count               10000 non-null  float64\n",
      " 25  currently_reading          9776 non-null   float64\n",
      "dtypes: float64(5), int64(13), object(8)\n",
      "memory usage: 2.1+ MB\n"
     ]
    }
   ],
   "source": [
    "df.info()"
   ]
  },
  {
   "cell_type": "markdown",
   "metadata": {
    "id": "B87Kw9R7Cgvk"
   },
   "source": [
    "#### Plotting the correlation between various columns using Heatmap\n",
    "Not all columns contribute to the rating of the books"
   ]
  },
  {
   "cell_type": "code",
   "execution_count": null,
   "metadata": {
    "colab": {
     "base_uri": "https://localhost:8080/",
     "height": 778
    },
    "id": "WVtHXEn4G1ul",
    "outputId": "88c76a32-53d8-4190-c920-46bbc17b97d4"
   },
   "outputs": [
    {
     "data": {
      "text/plain": [
       "<matplotlib.axes._subplots.AxesSubplot at 0x7fbce00bba20>"
      ]
     },
     "execution_count": 8,
     "metadata": {
      "tags": []
     },
     "output_type": "execute_result"
    },
    {
     "data": {
      "image/png": "[encoded data removed]",
      "text/plain": [
       "<Figure size 864x864 with 2 Axes>"
      ]
     },
     "metadata": {
      "needs_background": "light",
      "tags": []
     },
     "output_type": "display_data"
    }
   ],
   "source": [
    "f,ax = plt.subplots(figsize = (12, 12))\n",
    "sns.heatmap(df.corr(), annot = True, linewidths = 0.1, fmt = '.1f', ax = ax, square = True)"
   ]
  },
  {
   "cell_type": "markdown",
   "metadata": {
    "id": "7ZN6qmKTC2BU"
   },
   "source": [
    "### Data Cleansing\n",
    "#### Gathering facts about datatype, mssing values, unique values"
   ]
  },
  {
   "cell_type": "code",
   "execution_count": null,
   "metadata": {
    "colab": {
     "base_uri": "https://localhost:8080/",
     "height": 855
    },
    "id": "l3M8FznRhYJm",
    "outputId": "d4ef6c9d-e225-434d-a251-0a30d95fcc80"
   },
   "outputs": [
    {
     "data": {
      "text/html": [
       "<div>\n",
       "<style scoped>\n",
       "    .dataframe tbody tr th:only-of-type {\n",
       "        vertical-align: middle;\n",
       "    }\n",
       "\n",
       "    .dataframe tbody tr th {\n",
       "        vertical-align: top;\n",
       "    }\n",
       "\n",
       "    .dataframe thead th {\n",
       "        text-align: right;\n",
       "    }\n",
       "</style>\n",
       "<table border=\"1\" class=\"dataframe\">\n",
       "  <thead>\n",
       "    <tr style=\"text-align: right;\">\n",
       "      <th></th>\n",
       "      <th>Data_Type</th>\n",
       "      <th>Missing Values</th>\n",
       "      <th>Unique</th>\n",
       "      <th>Count</th>\n",
       "    </tr>\n",
       "  </thead>\n",
       "  <tbody>\n",
       "    <tr>\n",
       "      <th>id</th>\n",
       "      <td>int64</td>\n",
       "      <td>0</td>\n",
       "      <td>10000</td>\n",
       "      <td>10000</td>\n",
       "    </tr>\n",
       "    <tr>\n",
       "      <th>book_id</th>\n",
       "      <td>int64</td>\n",
       "      <td>0</td>\n",
       "      <td>10000</td>\n",
       "      <td>10000</td>\n",
       "    </tr>\n",
       "    <tr>\n",
       "      <th>best_book_id</th>\n",
       "      <td>int64</td>\n",
       "      <td>0</td>\n",
       "      <td>10000</td>\n",
       "      <td>10000</td>\n",
       "    </tr>\n",
       "    <tr>\n",
       "      <th>work_id</th>\n",
       "      <td>int64</td>\n",
       "      <td>0</td>\n",
       "      <td>10000</td>\n",
       "      <td>10000</td>\n",
       "    </tr>\n",
       "    <tr>\n",
       "      <th>books_count</th>\n",
       "      <td>int64</td>\n",
       "      <td>0</td>\n",
       "      <td>597</td>\n",
       "      <td>10000</td>\n",
       "    </tr>\n",
       "    <tr>\n",
       "      <th>isbn</th>\n",
       "      <td>object</td>\n",
       "      <td>700</td>\n",
       "      <td>9300</td>\n",
       "      <td>9300</td>\n",
       "    </tr>\n",
       "    <tr>\n",
       "      <th>isbn13</th>\n",
       "      <td>float64</td>\n",
       "      <td>585</td>\n",
       "      <td>9153</td>\n",
       "      <td>9415</td>\n",
       "    </tr>\n",
       "    <tr>\n",
       "      <th>authors</th>\n",
       "      <td>object</td>\n",
       "      <td>0</td>\n",
       "      <td>4664</td>\n",
       "      <td>10000</td>\n",
       "    </tr>\n",
       "    <tr>\n",
       "      <th>original_publication_year</th>\n",
       "      <td>float64</td>\n",
       "      <td>21</td>\n",
       "      <td>293</td>\n",
       "      <td>9979</td>\n",
       "    </tr>\n",
       "    <tr>\n",
       "      <th>original_title</th>\n",
       "      <td>object</td>\n",
       "      <td>585</td>\n",
       "      <td>9274</td>\n",
       "      <td>9415</td>\n",
       "    </tr>\n",
       "    <tr>\n",
       "      <th>title</th>\n",
       "      <td>object</td>\n",
       "      <td>0</td>\n",
       "      <td>9964</td>\n",
       "      <td>10000</td>\n",
       "    </tr>\n",
       "    <tr>\n",
       "      <th>language_code</th>\n",
       "      <td>object</td>\n",
       "      <td>1084</td>\n",
       "      <td>25</td>\n",
       "      <td>8916</td>\n",
       "    </tr>\n",
       "    <tr>\n",
       "      <th>average_rating</th>\n",
       "      <td>float64</td>\n",
       "      <td>0</td>\n",
       "      <td>184</td>\n",
       "      <td>10000</td>\n",
       "    </tr>\n",
       "    <tr>\n",
       "      <th>ratings_count</th>\n",
       "      <td>int64</td>\n",
       "      <td>0</td>\n",
       "      <td>9003</td>\n",
       "      <td>10000</td>\n",
       "    </tr>\n",
       "    <tr>\n",
       "      <th>work_ratings_count</th>\n",
       "      <td>int64</td>\n",
       "      <td>0</td>\n",
       "      <td>9053</td>\n",
       "      <td>10000</td>\n",
       "    </tr>\n",
       "    <tr>\n",
       "      <th>work_text_reviews_count</th>\n",
       "      <td>int64</td>\n",
       "      <td>0</td>\n",
       "      <td>4581</td>\n",
       "      <td>10000</td>\n",
       "    </tr>\n",
       "    <tr>\n",
       "      <th>ratings_1</th>\n",
       "      <td>int64</td>\n",
       "      <td>0</td>\n",
       "      <td>2630</td>\n",
       "      <td>10000</td>\n",
       "    </tr>\n",
       "    <tr>\n",
       "      <th>ratings_2</th>\n",
       "      <td>int64</td>\n",
       "      <td>0</td>\n",
       "      <td>4117</td>\n",
       "      <td>10000</td>\n",
       "    </tr>\n",
       "    <tr>\n",
       "      <th>ratings_3</th>\n",
       "      <td>int64</td>\n",
       "      <td>0</td>\n",
       "      <td>6972</td>\n",
       "      <td>10000</td>\n",
       "    </tr>\n",
       "    <tr>\n",
       "      <th>ratings_4</th>\n",
       "      <td>int64</td>\n",
       "      <td>0</td>\n",
       "      <td>7762</td>\n",
       "      <td>10000</td>\n",
       "    </tr>\n",
       "    <tr>\n",
       "      <th>ratings_5</th>\n",
       "      <td>int64</td>\n",
       "      <td>0</td>\n",
       "      <td>8103</td>\n",
       "      <td>10000</td>\n",
       "    </tr>\n",
       "    <tr>\n",
       "      <th>image_url</th>\n",
       "      <td>object</td>\n",
       "      <td>0</td>\n",
       "      <td>6669</td>\n",
       "      <td>10000</td>\n",
       "    </tr>\n",
       "    <tr>\n",
       "      <th>small_image_url</th>\n",
       "      <td>object</td>\n",
       "      <td>0</td>\n",
       "      <td>6669</td>\n",
       "      <td>10000</td>\n",
       "    </tr>\n",
       "    <tr>\n",
       "      <th>tag_name</th>\n",
       "      <td>object</td>\n",
       "      <td>0</td>\n",
       "      <td>10000</td>\n",
       "      <td>10000</td>\n",
       "    </tr>\n",
       "    <tr>\n",
       "      <th>toread_count</th>\n",
       "      <td>float64</td>\n",
       "      <td>0</td>\n",
       "      <td>239</td>\n",
       "      <td>10000</td>\n",
       "    </tr>\n",
       "    <tr>\n",
       "      <th>currently_reading</th>\n",
       "      <td>float64</td>\n",
       "      <td>224</td>\n",
       "      <td>2124</td>\n",
       "      <td>9776</td>\n",
       "    </tr>\n",
       "  </tbody>\n",
       "</table>\n",
       "</div>"
      ],
      "text/plain": [
       "                          Data_Type  Missing Values  Unique  Count\n",
       "id                            int64               0   10000  10000\n",
       "book_id                       int64               0   10000  10000\n",
       "best_book_id                  int64               0   10000  10000\n",
       "work_id                       int64               0   10000  10000\n",
       "books_count                   int64               0     597  10000\n",
       "isbn                         object             700    9300   9300\n",
       "isbn13                      float64             585    9153   9415\n",
       "authors                      object               0    4664  10000\n",
       "original_publication_year   float64              21     293   9979\n",
       "original_title               object             585    9274   9415\n",
       "title                        object               0    9964  10000\n",
       "language_code                object            1084      25   8916\n",
       "average_rating              float64               0     184  10000\n",
       "ratings_count                 int64               0    9003  10000\n",
       "work_ratings_count            int64               0    9053  10000\n",
       "work_text_reviews_count       int64               0    4581  10000\n",
       "ratings_1                     int64               0    2630  10000\n",
       "ratings_2                     int64               0    4117  10000\n",
       "ratings_3                     int64               0    6972  10000\n",
       "ratings_4                     int64               0    7762  10000\n",
       "ratings_5                     int64               0    8103  10000\n",
       "image_url                    object               0    6669  10000\n",
       "small_image_url              object               0    6669  10000\n",
       "tag_name                     object               0   10000  10000\n",
       "toread_count                float64               0     239  10000\n",
       "currently_reading           float64             224    2124   9776"
      ]
     },
     "execution_count": 9,
     "metadata": {
      "tags": []
     },
     "output_type": "execute_result"
    }
   ],
   "source": [
    "facts = pd.DataFrame(df.dtypes)\n",
    "facts = facts.rename(columns={0:'Data_Type'})\n",
    "facts['Missing Values'] = df.isnull().sum()\n",
    "facts['Unique'] = df.nunique()\n",
    "facts['Count'] = df.count()\n",
    "\n",
    "facts"
   ]
  },
  {
   "cell_type": "markdown",
   "metadata": {
    "id": "S1E7inhgDHDz"
   },
   "source": [
    "#### Inspecting the data in language_code:"
   ]
  },
  {
   "cell_type": "code",
   "execution_count": null,
   "metadata": {
    "colab": {
     "base_uri": "https://localhost:8080/"
    },
    "id": "DWwL6umDAqMm",
    "outputId": "238cb598-8f1e-453a-827f-f2a4a5e004a2"
   },
   "outputs": [
    {
     "data": {
      "text/plain": [
       "array(['eng', 'en-US', 'en-CA', nan, 'spa', 'en-GB', 'fre', 'nl', 'ara',\n",
       "       'por', 'ger', 'nor', 'jpn', 'en', 'vie', 'ind', 'pol', 'tur',\n",
       "       'dan', 'fil', 'ita', 'per', 'swe', 'rum', 'mul', 'rus'],\n",
       "      dtype=object)"
      ]
     },
     "execution_count": 10,
     "metadata": {
      "tags": []
     },
     "output_type": "execute_result"
    }
   ],
   "source": [
    "df['language_code'].unique()"
   ]
  },
  {
   "cell_type": "markdown",
   "metadata": {
    "id": "vSirqLwjDPwZ"
   },
   "source": [
    "#### Standardizing the nomenclature for code 'eng-US', 'eng-CA', 'eng-GB' as 'eng' for of analysis and computations "
   ]
  },
  {
   "cell_type": "code",
   "execution_count": null,
   "metadata": {
    "colab": {
     "base_uri": "https://localhost:8080/"
    },
    "id": "Arh5yzKYn-Xo",
    "outputId": "6ccc96b4-c08d-46fb-a061-340fc8d2e2af"
   },
   "outputs": [
    {
     "data": {
      "text/plain": [
       "eng    8726\n",
       "ara      64\n",
       "fre      25\n",
       "ind      21\n",
       "spa      20\n",
       "ger      13\n",
       "jpn       7\n",
       "per       7\n",
       "pol       6\n",
       "por       6\n",
       "en        4\n",
       "nor       3\n",
       "dan       3\n",
       "fil       2\n",
       "ita       2\n",
       "rum       1\n",
       "nl        1\n",
       "mul       1\n",
       "swe       1\n",
       "rus       1\n",
       "tur       1\n",
       "vie       1\n",
       "Name: language_code, dtype: int64"
      ]
     },
     "execution_count": 11,
     "metadata": {
      "tags": []
     },
     "output_type": "execute_result"
    }
   ],
   "source": [
    "df['language_code'].replace({'en-US':'eng','en-CA':'eng','en-GB':'eng'},inplace=True)\n",
    "df['language_code'].value_counts()"
   ]
  },
  {
   "cell_type": "markdown",
   "metadata": {
    "id": "FqdIlVDRDkeP"
   },
   "source": [
    "#### Imputing missing values using mode value which is 'eng'"
   ]
  },
  {
   "cell_type": "code",
   "execution_count": null,
   "metadata": {
    "colab": {
     "base_uri": "https://localhost:8080/",
     "height": 35
    },
    "id": "6j55j9ESB16Z",
    "outputId": "0e5cef9d-8dcc-4e1d-acee-bcdc6fc489f3"
   },
   "outputs": [
    {
     "data": {
      "application/vnd.google.colaboratory.intrinsic+json": {
       "type": "string"
      },
      "text/plain": [
       "'eng'"
      ]
     },
     "execution_count": 12,
     "metadata": {
      "tags": []
     },
     "output_type": "execute_result"
    }
   ],
   "source": [
    "mode = df['language_code'].value_counts().idxmax()\n",
    "mode"
   ]
  },
  {
   "cell_type": "code",
   "execution_count": null,
   "metadata": {
    "id": "qjOOm2q2Awj2"
   },
   "outputs": [],
   "source": [
    "df['language_code'] = df['language_code'].fillna('eng')"
   ]
  },
  {
   "cell_type": "markdown",
   "metadata": {
    "id": "UCdyaXELDryh"
   },
   "source": [
    "### Imputing missing values using K-neighbor = 5 \n",
    "#### applying KNN=5 on columns 'currently_reading' and 'original_publication_year' "
   ]
  },
  {
   "cell_type": "code",
   "execution_count": null,
   "metadata": {
    "id": "Ao8NCQTrCxss"
   },
   "outputs": [],
   "source": [
    "from sklearn.impute import KNNImputer\n",
    "\n",
    "imputer = KNNImputer(n_neighbors = 5)\n",
    "df[['currently_reading','original_publication_year']] = imputer.fit_transform(df[['currently_reading','original_publication_year']])\n"
   ]
  },
  {
   "cell_type": "markdown",
   "metadata": {
    "id": "frim9Y3uD_lY"
   },
   "source": [
    "#### Fetching dataframe info:"
   ]
  },
  {
   "cell_type": "code",
   "execution_count": null,
   "metadata": {
    "colab": {
     "base_uri": "https://localhost:8080/"
    },
    "id": "LNAibf_EDuxN",
    "outputId": "0684b8f2-85b2-4daf-9041-3c899ae98a7d"
   },
   "outputs": [
    {
     "name": "stdout",
     "output_type": "stream",
     "text": [
      "<class 'pandas.core.frame.DataFrame'>\n",
      "Int64Index: 10000 entries, 1 to 10000\n",
      "Data columns (total 26 columns):\n",
      " #   Column                     Non-Null Count  Dtype  \n",
      "---  ------                     --------------  -----  \n",
      " 0   id                         10000 non-null  int64  \n",
      " 1   book_id                    10000 non-null  int64  \n",
      " 2   best_book_id               10000 non-null  int64  \n",
      " 3   work_id                    10000 non-null  int64  \n",
      " 4   books_count                10000 non-null  int64  \n",
      " 5   isbn                       9300 non-null   object \n",
      " 6   isbn13                     9415 non-null   float64\n",
      " 7   authors                    10000 non-null  object \n",
      " 8   original_publication_year  10000 non-null  float64\n",
      " 9   original_title             9415 non-null   object \n",
      " 10  title                      10000 non-null  object \n",
      " 11  language_code              10000 non-null  object \n",
      " 12  average_rating             10000 non-null  float64\n",
      " 13  ratings_count              10000 non-null  int64  \n",
      " 14  work_ratings_count         10000 non-null  int64  \n",
      " 15  work_text_reviews_count    10000 non-null  int64  \n",
      " 16  ratings_1                  10000 non-null  int64  \n",
      " 17  ratings_2                  10000 non-null  int64  \n",
      " 18  ratings_3                  10000 non-null  int64  \n",
      " 19  ratings_4                  10000 non-null  int64  \n",
      " 20  ratings_5                  10000 non-null  int64  \n",
      " 21  image_url                  10000 non-null  object \n",
      " 22  small_image_url            10000 non-null  object \n",
      " 23  tag_name                   10000 non-null  object \n",
      " 24  toread_count               10000 non-null  float64\n",
      " 25  currently_reading          10000 non-null  float64\n",
      "dtypes: float64(5), int64(13), object(8)\n",
      "memory usage: 2.1+ MB\n"
     ]
    }
   ],
   "source": [
    "df.info()"
   ]
  },
  {
   "cell_type": "markdown",
   "metadata": {
    "id": "TFEQq9kGENHq"
   },
   "source": [
    "### Dropping the unwanted columns:\n",
    "We drop the following columns as imputing the missing values for ISBN and original-title is not logical. Also, these columns will not aid in analysis."
   ]
  },
  {
   "cell_type": "code",
   "execution_count": null,
   "metadata": {
    "colab": {
     "base_uri": "https://localhost:8080/"
    },
    "id": "PWMyOWIwHmzm",
    "outputId": "c9959aa0-167b-49c2-95ad-e37cd3afff4b"
   },
   "outputs": [
    {
     "name": "stdout",
     "output_type": "stream",
     "text": [
      "<class 'pandas.core.frame.DataFrame'>\n",
      "Int64Index: 10000 entries, 1 to 10000\n",
      "Data columns (total 19 columns):\n",
      " #   Column                     Non-Null Count  Dtype  \n",
      "---  ------                     --------------  -----  \n",
      " 0   id                         10000 non-null  int64  \n",
      " 1   book_id                    10000 non-null  int64  \n",
      " 2   books_count                10000 non-null  int64  \n",
      " 3   authors                    10000 non-null  object \n",
      " 4   original_publication_year  10000 non-null  float64\n",
      " 5   title                      10000 non-null  object \n",
      " 6   language_code              10000 non-null  object \n",
      " 7   average_rating             10000 non-null  float64\n",
      " 8   ratings_count              10000 non-null  int64  \n",
      " 9   work_ratings_count         10000 non-null  int64  \n",
      " 10  work_text_reviews_count    10000 non-null  int64  \n",
      " 11  ratings_1                  10000 non-null  int64  \n",
      " 12  ratings_2                  10000 non-null  int64  \n",
      " 13  ratings_3                  10000 non-null  int64  \n",
      " 14  ratings_4                  10000 non-null  int64  \n",
      " 15  ratings_5                  10000 non-null  int64  \n",
      " 16  tag_name                   10000 non-null  object \n",
      " 17  toread_count               10000 non-null  float64\n",
      " 18  currently_reading          10000 non-null  float64\n",
      "dtypes: float64(4), int64(11), object(4)\n",
      "memory usage: 1.5+ MB\n"
     ]
    }
   ],
   "source": [
    "df_cleaned = df.drop(['best_book_id', 'work_id', 'isbn', 'isbn13', 'original_title', 'image_url', 'small_image_url'], axis=1)\n",
    "df_cleaned.info()"
   ]
  },
  {
   "cell_type": "markdown",
   "metadata": {
    "id": "6QupHFq0vbFD"
   },
   "source": [
    "### Adding rating_range & rating_cat (as good, excellent etc)\n",
    "rating_range is added based on the average rating, rating_cat is derived from rating_range to be used in some analysis.\n",
    "0-1 : Poor\n",
    "1-2 : Below Average\n",
    "2-3 : Average\n",
    "3-4 : Good\n",
    "4-5 : Excellent"
   ]
  },
  {
   "cell_type": "code",
   "execution_count": null,
   "metadata": {
    "id": "E7t_yxduu0Oo"
   },
   "outputs": [],
   "source": [
    "df_cleaned.loc[ (df_cleaned['average_rating'] >= 0) & (df_cleaned['average_rating'] <= 1), 'rating_range'] = \"between_0_to_1\"\n",
    "df_cleaned.loc[ (df_cleaned['average_rating'] > 1) & (df_cleaned['average_rating'] <= 2), 'rating_range'] = \"between_1_to_2\"\n",
    "df_cleaned.loc[ (df_cleaned['average_rating'] > 2) & (df_cleaned['average_rating'] <= 3), 'rating_range'] = \"between_2_to_3\"\n",
    "df_cleaned.loc[ (df_cleaned['average_rating'] > 3) & (df_cleaned['average_rating'] <= 4), 'rating_range'] = \"between_3_to_4\"\n",
    "df_cleaned.loc[ (df_cleaned['average_rating'] > 4) & (df_cleaned['average_rating'] <= 5), 'rating_range'] = \"between_4_to_5\""
   ]
  },
  {
   "cell_type": "code",
   "execution_count": null,
   "metadata": {
    "colab": {
     "base_uri": "https://localhost:8080/"
    },
    "id": "qK873GcPu0G7",
    "outputId": "f1361539-36e7-4ad4-9d2b-a8b8a1c8ae3d"
   },
   "outputs": [
    {
     "name": "stdout",
     "output_type": "stream",
     "text": [
      "<class 'pandas.core.frame.DataFrame'>\n",
      "Int64Index: 10000 entries, 1 to 10000\n",
      "Data columns (total 20 columns):\n",
      " #   Column                     Non-Null Count  Dtype  \n",
      "---  ------                     --------------  -----  \n",
      " 0   id                         10000 non-null  int64  \n",
      " 1   book_id                    10000 non-null  int64  \n",
      " 2   books_count                10000 non-null  int64  \n",
      " 3   authors                    10000 non-null  object \n",
      " 4   original_publication_year  10000 non-null  float64\n",
      " 5   title                      10000 non-null  object \n",
      " 6   language_code              10000 non-null  object \n",
      " 7   average_rating             10000 non-null  float64\n",
      " 8   ratings_count              10000 non-null  int64  \n",
      " 9   work_ratings_count         10000 non-null  int64  \n",
      " 10  work_text_reviews_count    10000 non-null  int64  \n",
      " 11  ratings_1                  10000 non-null  int64  \n",
      " 12  ratings_2                  10000 non-null  int64  \n",
      " 13  ratings_3                  10000 non-null  int64  \n",
      " 14  ratings_4                  10000 non-null  int64  \n",
      " 15  ratings_5                  10000 non-null  int64  \n",
      " 16  tag_name                   10000 non-null  object \n",
      " 17  toread_count               10000 non-null  float64\n",
      " 18  currently_reading          10000 non-null  float64\n",
      " 19  rating_range               10000 non-null  object \n",
      "dtypes: float64(4), int64(11), object(5)\n",
      "memory usage: 1.6+ MB\n"
     ]
    }
   ],
   "source": [
    "df_cleaned.info()"
   ]
  },
  {
   "cell_type": "code",
   "execution_count": null,
   "metadata": {
    "id": "LiYJ01_ivSw7"
   },
   "outputs": [],
   "source": [
    "df_cleaned.loc[ (df_cleaned['rating_range'] == 'between_0_to_1'), 'rating_cat'] = 'Poor'\n",
    "df_cleaned.loc[ (df_cleaned['rating_range'] == 'between_1_to_2'), 'rating_cat'] = 'Below Average'\n",
    "df_cleaned.loc[ (df_cleaned['rating_range'] == 'between_2_to_3'), 'rating_cat'] = 'Average'\n",
    "df_cleaned.loc[ (df_cleaned['rating_range'] == 'between_3_to_4'), 'rating_cat'] = 'Good'\n",
    "df_cleaned.loc[ (df_cleaned['rating_range'] == 'between_4_to_5'), 'rating_cat'] = 'Excellent'"
   ]
  },
  {
   "cell_type": "code",
   "execution_count": null,
   "metadata": {
    "colab": {
     "base_uri": "https://localhost:8080/"
    },
    "id": "WMK6VUsGwrNr",
    "outputId": "db8e03ee-95fc-4fb3-e0c6-1976e751809a"
   },
   "outputs": [
    {
     "name": "stdout",
     "output_type": "stream",
     "text": [
      "<class 'pandas.core.frame.DataFrame'>\n",
      "Int64Index: 10000 entries, 1 to 10000\n",
      "Data columns (total 21 columns):\n",
      " #   Column                     Non-Null Count  Dtype  \n",
      "---  ------                     --------------  -----  \n",
      " 0   id                         10000 non-null  int64  \n",
      " 1   book_id                    10000 non-null  int64  \n",
      " 2   books_count                10000 non-null  int64  \n",
      " 3   authors                    10000 non-null  object \n",
      " 4   original_publication_year  10000 non-null  float64\n",
      " 5   title                      10000 non-null  object \n",
      " 6   language_code              10000 non-null  object \n",
      " 7   average_rating             10000 non-null  float64\n",
      " 8   ratings_count              10000 non-null  int64  \n",
      " 9   work_ratings_count         10000 non-null  int64  \n",
      " 10  work_text_reviews_count    10000 non-null  int64  \n",
      " 11  ratings_1                  10000 non-null  int64  \n",
      " 12  ratings_2                  10000 non-null  int64  \n",
      " 13  ratings_3                  10000 non-null  int64  \n",
      " 14  ratings_4                  10000 non-null  int64  \n",
      " 15  ratings_5                  10000 non-null  int64  \n",
      " 16  tag_name                   10000 non-null  object \n",
      " 17  toread_count               10000 non-null  float64\n",
      " 18  currently_reading          10000 non-null  float64\n",
      " 19  rating_range               10000 non-null  object \n",
      " 20  rating_cat                 10000 non-null  object \n",
      "dtypes: float64(4), int64(11), object(6)\n",
      "memory usage: 1.7+ MB\n"
     ]
    }
   ],
   "source": [
    "df_cleaned.info()"
   ]
  },
  {
   "cell_type": "markdown",
   "metadata": {
    "id": "1GJ7dyQ2mqE8"
   },
   "source": [
    "### Normalizing the text fields:\n",
    "Convert text to lowercase, remove text in square brackets, remove links, remove punctuation and remove words containing numbers."
   ]
  },
  {
   "cell_type": "code",
   "execution_count": null,
   "metadata": {
    "id": "xOvxbYXVgIQu"
   },
   "outputs": [],
   "source": [
    "import re\n",
    "import string\n",
    "def text_cleaning(text):\n",
    "    text = str(text).lower()\n",
    "    text = re.sub('ï¼¦ï½ï½–ï½ï½’ï½‰ï½”ï½…ï½“', '', text)\n",
    "    text = re.sub('Ù‡ÙŠØ¨ØªØ§ Ù…Ø­Ù…Ø¯ØµØ§Ø¯Ù‚', '', text)\n",
    "    text = re.sub('Ø¯Ø£Ø­Ù…Ø¯Ø®Ø§Ù„Ø¯ØªÙˆÙÙŠÙ', '', text)\n",
    "    text = re.sub('Ø±ÙˆØ§ÙŠØ§Øª', '', text)\n",
    "    text = re.sub('ÙÙ„Ø³ÙÙ‡', '', text)\n",
    "    text = re.sub('Ã³', 'o', text)\n",
    "    text = re.sub('â€™', 'ae', text)\n",
    "    text = re.sub('\\w*\\d\\w*', '', text)\n",
    "    text = re.sub(r'[^\\w\\s]', '', text) \n",
    "    text = re.sub('©', 'copyright', text) \n",
    "    return text\n"
   ]
  },
  {
   "cell_type": "code",
   "execution_count": null,
   "metadata": {
    "id": "MzHu2ivFnSXd"
   },
   "outputs": [],
   "source": [
    "df_cleaned['title_clean'] = df_cleaned['title'].apply(lambda x:text_cleaning(x))"
   ]
  },
  {
   "cell_type": "code",
   "execution_count": null,
   "metadata": {
    "id": "9QpGdbfFPQrN"
   },
   "outputs": [],
   "source": [
    "df_cleaned['authors_clean'] = df_cleaned['authors'].apply(lambda x:text_cleaning(x))"
   ]
  },
  {
   "cell_type": "code",
   "execution_count": null,
   "metadata": {
    "id": "TN2LbvJ1YcqC"
   },
   "outputs": [],
   "source": [
    "df_cleaned['tag_name_clean'] = df_cleaned['tag_name'].apply(lambda x:text_cleaning(x))"
   ]
  },
  {
   "cell_type": "code",
   "execution_count": null,
   "metadata": {
    "colab": {
     "base_uri": "https://localhost:8080/"
    },
    "id": "rKk2whsvnpO8",
    "outputId": "73d1feef-56a9-4a40-f7dc-2d67155772e4"
   },
   "outputs": [
    {
     "data": {
      "text/plain": [
       "id\n",
       "1        favorites currentlyreading youngadult fiction ...\n",
       "2        toread favorites fantasy currentlyreading youn...\n",
       "3        youngadult fantasy favorites vampires ya ficti...\n",
       "4        classics favorites toread classic historicalfi...\n",
       "5        classics favorites fiction classic booksiown o...\n",
       "                               ...                        \n",
       "9996     toread urbanfantasy fantasy romance paranormal...\n",
       "9997     toread biography history nonfiction politics c...\n",
       "9998     toread historicalfiction fiction historical cu...\n",
       "9999     toread nonfiction parenting feminism sociology...\n",
       "10000    toread history nonfiction currentlyreading mil...\n",
       "Name: tag_name_clean, Length: 10000, dtype: object"
      ]
     },
     "execution_count": 27,
     "metadata": {
      "tags": []
     },
     "output_type": "execute_result"
    }
   ],
   "source": [
    "df_cleaned['tag_name_clean']"
   ]
  },
  {
   "cell_type": "markdown",
   "metadata": {
    "id": "5MokGYCMFx-C"
   },
   "source": [
    "### Bringing consistency in author names:\n",
    "In many instance, the names of a particular author appear in different initials and forms. Normalizing it to aid analysis."
   ]
  },
  {
   "cell_type": "code",
   "execution_count": null,
   "metadata": {
    "id": "A9U5Gx5HSZ_A"
   },
   "outputs": [],
   "source": [
    "df_cleaned.loc[(df_cleaned['authors_clean'].str[:8] == 'dr seuss'), 'authors_clean'] = 'dr seuss'\n",
    "df_cleaned.loc[(df_cleaned['authors_clean'].str[:5] == 'homer'), 'authors_clean'] = 'homer' \n",
    "df_cleaned.loc[(df_cleaned['authors_clean'].str[:10] == 'jk rowling'), 'authors_clean'] = 'jk rowling'"
   ]
  },
  {
   "cell_type": "code",
   "execution_count": null,
   "metadata": {
    "id": "j-V31ys8XoxG"
   },
   "outputs": [],
   "source": [
    "df_cleaned.loc[(df_cleaned['authors_clean'].str[:13] == 'george orwell'), 'authors_clean'] = 'george orwell'\n",
    "df_cleaned.loc[(df_cleaned['authors_clean'].str[:19] == 'william shakespeare'), 'authors_clean'] = 'william shakespeare'\n",
    "df_cleaned.loc[(df_cleaned['authors_clean'].str[:10] == 'anne frank'), 'authors_clean'] = 'anne frank'\n",
    "df_cleaned.loc[(df_cleaned['authors_clean'].str[:16] == 'charlotte bronte'), 'authors_clean'] = 'charlotte bronte'\n",
    "df_cleaned.loc[(df_cleaned['authors_clean'].str[:12] == 'emily bronte'), 'authors_clean'] = 'emily bronte'\n",
    "df_cleaned.loc[(df_cleaned['authors_clean'].str[:11] == 'gabriel gar'), 'authors_clean'] = 'gabriel garcia marquez'\n",
    "df_cleaned.loc[(df_cleaned['authors_clean'].str[:7] == 'junot d'), 'authors_clean'] = 'junot diaz'"
   ]
  },
  {
   "cell_type": "code",
   "execution_count": null,
   "metadata": {
    "colab": {
     "base_uri": "https://localhost:8080/"
    },
    "id": "XI2Ar_A3ZXno",
    "outputId": "82269f6e-c8db-4449-d4ac-a0136778f3ff"
   },
   "outputs": [
    {
     "data": {
      "text/plain": [
       "array(['suzanne collins', 'jk rowling', 'stephenie meyer', ...,\n",
       "       'ian mortimer', 'peggy orenstein', 'john keegan'], dtype=object)"
      ]
     },
     "execution_count": 30,
     "metadata": {
      "tags": []
     },
     "output_type": "execute_result"
    }
   ],
   "source": [
    "df_cleaned.authors_clean.unique()"
   ]
  },
  {
   "cell_type": "code",
   "execution_count": null,
   "metadata": {
    "colab": {
     "base_uri": "https://localhost:8080/"
    },
    "id": "2uHYXtfonzvD",
    "outputId": "9c939933-8c8a-4ec7-961a-63c636397767"
   },
   "outputs": [
    {
     "name": "stdout",
     "output_type": "stream",
     "text": [
      "<class 'pandas.core.frame.DataFrame'>\n",
      "Int64Index: 10000 entries, 1 to 10000\n",
      "Data columns (total 24 columns):\n",
      " #   Column                     Non-Null Count  Dtype  \n",
      "---  ------                     --------------  -----  \n",
      " 0   id                         10000 non-null  int64  \n",
      " 1   book_id                    10000 non-null  int64  \n",
      " 2   books_count                10000 non-null  int64  \n",
      " 3   authors                    10000 non-null  object \n",
      " 4   original_publication_year  10000 non-null  float64\n",
      " 5   title                      10000 non-null  object \n",
      " 6   language_code              10000 non-null  object \n",
      " 7   average_rating             10000 non-null  float64\n",
      " 8   ratings_count              10000 non-null  int64  \n",
      " 9   work_ratings_count         10000 non-null  int64  \n",
      " 10  work_text_reviews_count    10000 non-null  int64  \n",
      " 11  ratings_1                  10000 non-null  int64  \n",
      " 12  ratings_2                  10000 non-null  int64  \n",
      " 13  ratings_3                  10000 non-null  int64  \n",
      " 14  ratings_4                  10000 non-null  int64  \n",
      " 15  ratings_5                  10000 non-null  int64  \n",
      " 16  tag_name                   10000 non-null  object \n",
      " 17  toread_count               10000 non-null  float64\n",
      " 18  currently_reading          10000 non-null  float64\n",
      " 19  rating_range               10000 non-null  object \n",
      " 20  rating_cat                 10000 non-null  object \n",
      " 21  title_clean                10000 non-null  object \n",
      " 22  authors_clean              10000 non-null  object \n",
      " 23  tag_name_clean             10000 non-null  object \n",
      "dtypes: float64(4), int64(11), object(9)\n",
      "memory usage: 1.9+ MB\n"
     ]
    }
   ],
   "source": [
    "df_cleaned.info()"
   ]
  },
  {
   "cell_type": "markdown",
   "metadata": {
    "id": "P_JHELyVGPQR"
   },
   "source": [
    "### Extracting data for Weka inputs:\n",
    "For the classification methods, we are taking a subset of the columns of and exporting it to CSV file. This CSV file is used as an input for WEKA.\n",
    "The columns 'id', 'books_count', 'average_rating', 'authors', 'original_publication_year', 'title', 'tag_name', \n",
    " 'toread_count', 'currently_reading', 'rating_range', 'title_clean', 'authors_clean' are not a part of this subset. Also, an excel export is taken to be used for Tableau visualizations used for data inspection."
   ]
  },
  {
   "cell_type": "code",
   "execution_count": null,
   "metadata": {
    "colab": {
     "base_uri": "https://localhost:8080/"
    },
    "id": "7ajBJbEC3jzO",
    "outputId": "7806f85c-83f2-4411-882f-8fa240829c42"
   },
   "outputs": [
    {
     "name": "stdout",
     "output_type": "stream",
     "text": [
      "<class 'pandas.core.frame.DataFrame'>\n",
      "Int64Index: 10000 entries, 1 to 10000\n",
      "Data columns (total 12 columns):\n",
      " #   Column                   Non-Null Count  Dtype \n",
      "---  ------                   --------------  ----- \n",
      " 0   book_id                  10000 non-null  int64 \n",
      " 1   language_code            10000 non-null  object\n",
      " 2   ratings_count            10000 non-null  int64 \n",
      " 3   work_ratings_count       10000 non-null  int64 \n",
      " 4   work_text_reviews_count  10000 non-null  int64 \n",
      " 5   ratings_1                10000 non-null  int64 \n",
      " 6   ratings_2                10000 non-null  int64 \n",
      " 7   ratings_3                10000 non-null  int64 \n",
      " 8   ratings_4                10000 non-null  int64 \n",
      " 9   ratings_5                10000 non-null  int64 \n",
      " 10  rating_cat               10000 non-null  object\n",
      " 11  tag_name_clean           10000 non-null  object\n",
      "dtypes: int64(9), object(3)\n",
      "memory usage: 1015.6+ KB\n"
     ]
    }
   ],
   "source": [
    "df_classification = df_cleaned.drop(['id', 'books_count', 'average_rating', 'authors', 'original_publication_year', 'title', 'tag_name', \n",
    " 'toread_count', 'currently_reading', 'rating_range', 'title_clean', 'authors_clean'], axis=1)\n",
    "df_classification.info()"
   ]
  },
  {
   "cell_type": "markdown",
   "metadata": {
    "id": "ZSJraJ91vFvX"
   },
   "source": [
    "#### Export dataframe to excel and CSV"
   ]
  },
  {
   "cell_type": "code",
   "execution_count": null,
   "metadata": {
    "id": "xbdzCEZ-n2NY"
   },
   "outputs": [],
   "source": [
    "df_cleaned.to_excel(\"books_cleaned.xlsx\") "
   ]
  },
  {
   "cell_type": "code",
   "execution_count": null,
   "metadata": {
    "id": "j-QwG2Ru9IXN"
   },
   "outputs": [],
   "source": [
    "df_classification.to_csv('books_classification.csv') "
   ]
  },
  {
   "cell_type": "markdown",
   "metadata": {
    "id": "wBPRzF1pvQn6"
   },
   "source": [
    "### Dataframe for Text mining"
   ]
  },
  {
   "cell_type": "code",
   "execution_count": null,
   "metadata": {
    "colab": {
     "base_uri": "https://localhost:8080/"
    },
    "id": "vF_E1Ag5vWZH",
    "outputId": "86e117f5-d3d9-42ba-ff22-5b096ee667f6"
   },
   "outputs": [
    {
     "name": "stdout",
     "output_type": "stream",
     "text": [
      "<class 'pandas.core.frame.DataFrame'>\n",
      "Int64Index: 10000 entries, 1 to 10000\n",
      "Data columns (total 4 columns):\n",
      " #   Column          Non-Null Count  Dtype \n",
      "---  ------          --------------  ----- \n",
      " 0   title_clean     10000 non-null  object\n",
      " 1   tag_name_clean  10000 non-null  object\n",
      " 2   rating_cat      10000 non-null  object\n",
      " 3   language_code   10000 non-null  object\n",
      "dtypes: object(4)\n",
      "memory usage: 390.6+ KB\n"
     ]
    }
   ],
   "source": [
    "df_t_mining = df_cleaned[['title_clean', 'tag_name_clean', 'rating_cat', 'language_code']]\n",
    "df_t_mining.info()"
   ]
  },
  {
   "cell_type": "code",
   "execution_count": null,
   "metadata": {
    "id": "RVfD0Fk5WRIX"
   },
   "outputs": [],
   "source": [
    "df_t_mining.to_csv('books_text_mining.csv')"
   ]
  },
  {
   "cell_type": "markdown",
   "metadata": {
    "id": "U0BVGzwCOOQj"
   },
   "source": [
    "#### Creating column Book_cat:\n",
    "This column is derived by identifying the peculiar words strings that are most common in the tag_names in order to find the genre of the books.\n",
    "If the tag name has values like \"historical\" and \"classic\", the category is historical classic. If the tag name has strings 'suspense' or 'thriller', then the category is thriller"
   ]
  },
  {
   "cell_type": "code",
   "execution_count": null,
   "metadata": {
    "id": "kwqvuIXQyCub"
   },
   "outputs": [],
   "source": [
    "df_t_mining['book_cat'] = df_t_mining['tag_name_clean']"
   ]
  },
  {
   "cell_type": "code",
   "execution_count": null,
   "metadata": {
    "id": "ZJpKO3MexwwP"
   },
   "outputs": [],
   "source": [
    "df_t_mining.loc[df_t_mining['book_cat'].str.contains('classic' and 'historical'), 'book_cat'] = 'historical classic'\n",
    "df_t_mining.loc[df_t_mining['book_cat'].str.contains('fiction' and 'children'), 'book_cat'] = 'fiction for children'\n",
    "df_t_mining.loc[df_t_mining['book_cat'].str.contains('fiction' and 'romance'), 'book_cat'] = 'romantic fiction'\n",
    "df_t_mining.loc[df_t_mining['book_cat'].str.contains('fiction' and 'scifi'), 'book_cat'] = 'scifi fiction'\n",
    "df_t_mining.loc[df_t_mining['book_cat'].str.contains('nonfiction'), 'book_cat'] = 'nonfiction'\n",
    "df_t_mining.loc[df_t_mining['book_cat'].str.contains('christianfiction'), 'book_cat'] = 'christian fiction'\n",
    "df_t_mining.loc[df_t_mining['book_cat'].str.contains('africa' and 'fiction'), 'book_cat'] = 'african fiction'\n",
    "df_t_mining.loc[df_t_mining['book_cat'].str.contains('suspense' or 'thriller'), 'book_cat'] = 'thriller'"
   ]
  },
  {
   "cell_type": "code",
   "execution_count": null,
   "metadata": {
    "colab": {
     "base_uri": "https://localhost:8080/"
    },
    "id": "_iC2VU-d0vqt",
    "outputId": "d4906d43-8eb4-466f-b259-c9924d877ea6"
   },
   "outputs": [
    {
     "data": {
      "text/plain": [
       "id\n",
       "1           african fiction\n",
       "2           african fiction\n",
       "3           african fiction\n",
       "4        historical classic\n",
       "5        historical classic\n",
       "                ...        \n",
       "9996        african fiction\n",
       "9997        african fiction\n",
       "9998     historical classic\n",
       "9999        african fiction\n",
       "10000       african fiction\n",
       "Name: book_cat, Length: 10000, dtype: object"
      ]
     },
     "execution_count": 70,
     "metadata": {
      "tags": []
     },
     "output_type": "execute_result"
    }
   ],
   "source": [
    "df_t_mining['book_cat']"
   ]
  },
  {
   "cell_type": "markdown",
   "metadata": {
    "id": "9xDfGAXNlwpA"
   },
   "source": [
    "Assigning appropriate book categories based on the peculiar words in tag_names."
   ]
  },
  {
   "cell_type": "code",
   "execution_count": null,
   "metadata": {
    "id": "tdvEYKDg1c0b"
   },
   "outputs": [],
   "source": [
    "df_t_mining.loc[df_t_mining['book_cat'].str.contains('russian'), 'book_cat'] = 'russian classic'\n",
    "df_t_mining.loc[df_t_mining['book_cat'].str.contains('travel'), 'book_cat'] = 'travel'\n",
    "df_t_mining.loc[df_t_mining['book_cat'].str.contains('suspense' or 'thriller' or 'mystery' or 'mysteries'), 'book_cat'] = 'mystery'\n",
    "df_t_mining.loc[df_t_mining['book_cat'].str.contains('comics'), 'book_cat'] = 'comics'\n",
    "df_t_mining.loc[df_t_mining['book_cat'].str.contains('philosophy'), 'book_cat'] = 'philosophy'\n",
    "df_t_mining.loc[df_t_mining['book_cat'].str.contains('fantasy'), 'book_cat'] = 'fantasy'\n",
    "df_t_mining.loc[df_t_mining['book_cat'].str.contains('poetry'), 'book_cat'] = 'poetry'\n",
    "\n",
    "df_t_mining.loc[df_t_mining['book_cat'].str.contains('arabic' or 'arabicbooks' or 'arabicnovels'), 'book_cat'] = 'mystery'\n",
    "df_t_mining.loc[df_t_mining['book_cat'].str.contains('shakespeare'), 'book_cat'] = 'shakespearean classic'\n",
    "df_t_mining.loc[df_t_mining['book_cat'].str.contains('americanliterature'), 'book_cat'] = 'american literature'\n",
    "df_t_mining.loc[df_t_mining['book_cat'].str.contains('religious'), 'book_cat'] = 'religious'\n",
    "df_t_mining.loc[df_t_mining['book_cat'].str.contains('italia'), 'book_cat'] = 'italian'\n",
    "df_t_mining.loc[df_t_mining['book_cat'].str.contains('horror'), 'book_cat'] = 'horror'\n",
    "df_t_mining.loc[df_t_mining['book_cat'].str.contains('classics' and 'drama'), 'book_cat'] = 'classic plays'"
   ]
  },
  {
   "cell_type": "code",
   "execution_count": null,
   "metadata": {
    "id": "XGckAF5h5deh"
   },
   "outputs": [],
   "source": [
    "df_t_mining.loc[df_t_mining['book_cat'].str.contains('jamespatterson'), 'book_cat'] = 'thriller'\n",
    "df_t_mining.loc[df_t_mining['book_cat'].str.contains('spanish'), 'book_cat'] = 'fiction'\n",
    "df_t_mining.loc[df_t_mining['book_cat'].str.contains('classics' and 'crime'), 'book_cat'] = 'classic crime'"
   ]
  },
  {
   "cell_type": "code",
   "execution_count": null,
   "metadata": {
    "colab": {
     "base_uri": "https://localhost:8080/"
    },
    "id": "J1uR_kWW06aU",
    "outputId": "9832571a-857a-4243-868a-59e266f0e995"
   },
   "outputs": [
    {
     "data": {
      "text/plain": [
       "array(['african fiction', 'historical classic', 'fiction', 'fantasy',\n",
       "       'russian classic', 'travel', 'classic crime', 'philosophy',\n",
       "       'comics', 'mystery', 'thriller', 'horror', 'religious', 'poetry',\n",
       "       'classic plays', 'american literature', 'shakespearean classic',\n",
       "       'italian'], dtype=object)"
      ]
     },
     "execution_count": 73,
     "metadata": {
      "tags": []
     },
     "output_type": "execute_result"
    }
   ],
   "source": [
    "words = df_t_mining['book_cat'].unique()\n",
    "words"
   ]
  },
  {
   "cell_type": "markdown",
   "metadata": {
    "id": "mjdQiLNgOw5z"
   },
   "source": [
    "Further narrowing down the book categories:"
   ]
  },
  {
   "cell_type": "code",
   "execution_count": null,
   "metadata": {
    "id": "P7-ZKqOQD2Sw"
   },
   "outputs": [],
   "source": [
    "df_t_mining['book_cat'].replace({'african fiction': 'fiction', 'spanish': 'fiction', \n",
    "        'italian': 'fiction', 'russian classic': 'fiction', 'fantasy': 'fiction'}, inplace = True) "
   ]
  },
  {
   "cell_type": "code",
   "execution_count": null,
   "metadata": {
    "id": "lTUcxlmbFClA"
   },
   "outputs": [],
   "source": [
    "df_t_mining['book_cat'].replace({'classic plays': 'classic', 'shakespearean classic': 'classic', \n",
    "                    'classic crime': 'classic', 'historical classic': 'classic'}, inplace = True) "
   ]
  },
  {
   "cell_type": "code",
   "execution_count": null,
   "metadata": {
    "id": "q9T_YYo_G0_F"
   },
   "outputs": [],
   "source": [
    "df_t_mining['book_cat'].replace({'mystery': 'fiction', 'thriller': 'fiction', 'horror': 'fiction'\n",
    "    }, inplace = True) "
   ]
  },
  {
   "cell_type": "code",
   "execution_count": null,
   "metadata": {
    "id": "cQMiMp2uHXt0"
   },
   "outputs": [],
   "source": [
    "df_t_mining['book_cat'].replace({'travel': 'philosophy and religion', 'philosophy': 'philosophy and religion', \n",
    "                                 'religious': 'philosophy and religion'}, inplace = True) "
   ]
  },
  {
   "cell_type": "code",
   "execution_count": null,
   "metadata": {
    "colab": {
     "base_uri": "https://localhost:8080/"
    },
    "id": "9ighQp3hE5o4",
    "outputId": "487d3e8b-985e-4458-8265-681fe9b9160e"
   },
   "outputs": [
    {
     "data": {
      "text/plain": [
       "array(['fiction', 'classic', 'philosophy and religion', 'comics',\n",
       "       'poetry', 'american literature'], dtype=object)"
      ]
     },
     "execution_count": 78,
     "metadata": {
      "tags": []
     },
     "output_type": "execute_result"
    }
   ],
   "source": [
    "df_t_mining['book_cat'].unique()"
   ]
  },
  {
   "cell_type": "markdown",
   "metadata": {
    "id": "pvAaWJnuPWb8"
   },
   "source": [
    "Here, the columns for books with Arabic language have many indecipherable symbols or notations. They cannot be provided as an input to WEKA. Hence, dropping the records for Arabic language. "
   ]
  },
  {
   "cell_type": "code",
   "execution_count": null,
   "metadata": {
    "id": "HM_ogHr8-RNn"
   },
   "outputs": [],
   "source": [
    "df_t_mining.drop(df_t_mining[df_t_mining['language_code'] == 'ara'].index, inplace = True) "
   ]
  },
  {
   "cell_type": "code",
   "execution_count": null,
   "metadata": {
    "id": "QNiDtrSFncAt"
   },
   "outputs": [],
   "source": [
    "df_t_mining = df_t_mining.drop(['language_code'], axis = 1) "
   ]
  },
  {
   "cell_type": "code",
   "execution_count": null,
   "metadata": {
    "id": "acvinetLnysi"
   },
   "outputs": [],
   "source": [
    "df_t_mining = df_t_mining.drop(['title_clean'], axis = 1) "
   ]
  },
  {
   "cell_type": "code",
   "execution_count": null,
   "metadata": {
    "colab": {
     "base_uri": "https://localhost:8080/"
    },
    "id": "trc-5aHj_OZM",
    "outputId": "007ceb54-f2d9-4daf-b5c1-661e6384e368"
   },
   "outputs": [
    {
     "name": "stdout",
     "output_type": "stream",
     "text": [
      "<class 'pandas.core.frame.DataFrame'>\n",
      "Int64Index: 9936 entries, 1 to 10000\n",
      "Data columns (total 3 columns):\n",
      " #   Column          Non-Null Count  Dtype \n",
      "---  ------          --------------  ----- \n",
      " 0   tag_name_clean  9936 non-null   object\n",
      " 1   rating_cat      9936 non-null   object\n",
      " 2   book_cat        9936 non-null   object\n",
      "dtypes: object(3)\n",
      "memory usage: 630.5+ KB\n"
     ]
    }
   ],
   "source": [
    "df_t_mining.info()"
   ]
  },
  {
   "cell_type": "markdown",
   "metadata": {
    "id": "4a2olLstQAQS"
   },
   "source": [
    "#### Exporting data to CSV file"
   ]
  },
  {
   "cell_type": "code",
   "execution_count": null,
   "metadata": {
    "id": "zKyX2eUG_Qid"
   },
   "outputs": [],
   "source": [
    "df_t_mining.to_csv('books_text_mining.csv')"
   ]
  }
 ],
 "metadata": {
  "colab": {
   "collapsed_sections": [],
   "name": "Data Mining Project_Goodreads.ipynb",
   "provenance": [],
   "toc_visible": true
  },
  "kernelspec": {
   "display_name": "Python 3",
   "language": "python",
   "name": "python3"
  },
  "language_info": {
   "codemirror_mode": {
    "name": "ipython",
    "version": 3
   },
   "file_extension": ".py",
   "mimetype": "text/x-python",
   "name": "python",
   "nbconvert_exporter": "python",
   "pygments_lexer": "ipython3",
   "version": "3.7.4"
  }
 },
 "nbformat": 4,
 "nbformat_minor": 1
}
